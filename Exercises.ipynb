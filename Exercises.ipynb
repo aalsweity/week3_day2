{
 "cells": [
  {
   "cell_type": "markdown",
   "metadata": {},
   "source": [
    "#### Exercise 1 - Class Inheritance"
   ]
  },
  {
   "cell_type": "markdown",
   "metadata": {},
   "source": [
    "Create an Employee class that sets an employee's first name, last name, job title, salary, and email. The Employee class should have a class attribute for the raise amount set to 5% (1.05). Create a method that will apply the raise to an employee's salary."
   ]
  },
  {
   "cell_type": "code",
   "execution_count": 68,
   "metadata": {},
   "outputs": [
    {
     "name": "stdout",
     "output_type": "stream",
     "text": [
      "65000\n"
     ]
    },
    {
     "data": {
      "text/plain": [
       "'Salary has been raised to 68250.0'"
      ]
     },
     "execution_count": 68,
     "metadata": {},
     "output_type": "execute_result"
    }
   ],
   "source": [
    "# Write the Employee Parent Class Here\n",
    "\n",
    "class Employee:\n",
    "    def __init__(self, first, last, job, salary):\n",
    "        self.first = first\n",
    "        self.last = last\n",
    "        self.job = job\n",
    "        self.salary = salary\n",
    "        self.email = first[0].lower() + last.lower() + \"@business.com\" \n",
    "    def __str__(self):\n",
    "        return(f\"{self.first} {self.last}\")\n",
    "        \n",
    "    def dosh_raise(self):\n",
    "        self.salary *= 1.05\n",
    "        return(f\"Salary has been raised to {self.salary}\")\n",
    "        \n",
    "\n",
    "        \n",
    "john = Employee(\"John\",\"Maverick\", \"Accountant\", 65000)\n",
    "print(john.salary)\n",
    "john.dosh_raise()\n",
    "\n",
    "\n"
   ]
  },
  {
   "cell_type": "markdown",
   "metadata": {},
   "source": [
    "Create two more classes that inherit from the Employee class. One for Sales and one for Development. Both of these classes will have the same attributes as the Employee.<br>\n",
    "- For the Sales employees, add a phone number attribute on instantiation using the super method. \n",
    "- Create a method on the Sales class that will \"Send a Follow Up Email\". It should take in a customer name and \"send\" aka print a formatted email \"Dear *customer*, Thank you for your interest in our product. Please let me know if you have any questions. My email is *email* or my phone number is *phone number*. Thanks, *full name*\"\n",
    "- Create a method on the Development class called code that will print out \"*full name* is writing code\"."
   ]
  },
  {
   "cell_type": "code",
   "execution_count": 69,
   "metadata": {},
   "outputs": [],
   "source": [
    "# Write the Sales child Class Here\n",
    "\n",
    "class Sales(Employee):\n",
    "    def __init__(self, first, last, job, salary):\n",
    "        super().__init__(first, last, job, salary)\n",
    "        self.pn = \"123-456-7890\"\n",
    "        \n",
    "    def email_follow_up(self, customer):\n",
    "        print(f\"\"\"\n",
    "        Dear {customer},\n",
    "        Thank you for your interest in our product. Please let me know if you have any questions. \n",
    "        My email is {self.email} or my phone number is {self.pn}. \n",
    "        Thanks, \n",
    "        {self}\n",
    "        \"\"\")\n",
    "\n",
    "\n",
    "\n",
    "# Write the Development child Class Here\n",
    "class Development(Employee):\n",
    "    def code(self):\n",
    "        print(f\"{self} is writing code\")\n"
   ]
  },
  {
   "cell_type": "markdown",
   "metadata": {},
   "source": [
    "- Create an instance of a Sales Employee with a salary of $50,000.\n",
    "- Send follow up emails to \"Mike O'Neil\" and \"Hannah Stern\"\n",
    "- Give the employee a raise and print the salary"
   ]
  },
  {
   "cell_type": "code",
   "execution_count": 70,
   "metadata": {},
   "outputs": [],
   "source": [
    "employee1 = Sales(\"Tom\", \"Hanks\", \"Accountant\", 50000)"
   ]
  },
  {
   "cell_type": "code",
   "execution_count": 71,
   "metadata": {
    "scrolled": true
   },
   "outputs": [
    {
     "name": "stdout",
     "output_type": "stream",
     "text": [
      "\n",
      "        Dear Mike,\n",
      "        Thank you for your interest in our product. Please let me know if you have any questions. \n",
      "        My email is thanks@business.com or my phone number is 123-456-7890. \n",
      "        Thanks, \n",
      "        Tom Hanks\n",
      "        \n"
     ]
    }
   ],
   "source": [
    "# Send follow up to Mike\n",
    "employee1.email_follow_up(\"Mike\")"
   ]
  },
  {
   "cell_type": "code",
   "execution_count": 72,
   "metadata": {},
   "outputs": [
    {
     "name": "stdout",
     "output_type": "stream",
     "text": [
      "\n",
      "        Dear Hannah,\n",
      "        Thank you for your interest in our product. Please let me know if you have any questions. \n",
      "        My email is thanks@business.com or my phone number is 123-456-7890. \n",
      "        Thanks, \n",
      "        Tom Hanks\n",
      "        \n"
     ]
    }
   ],
   "source": [
    "employee1.email_follow_up(\"Hannah\")"
   ]
  },
  {
   "cell_type": "code",
   "execution_count": 73,
   "metadata": {},
   "outputs": [
    {
     "data": {
      "text/plain": [
       "'Salary has been raised to 52500.0'"
      ]
     },
     "execution_count": 73,
     "metadata": {},
     "output_type": "execute_result"
    }
   ],
   "source": [
    "# Give the sales employee a raise\n",
    "employee1.dosh_raise()"
   ]
  },
  {
   "cell_type": "markdown",
   "metadata": {},
   "source": [
    "- Create an instance of a Development Employee with a salary of $100,000\n",
    "- Write some code with this employee\n",
    "- Give the employee a raise and print the salary"
   ]
  },
  {
   "cell_type": "code",
   "execution_count": 75,
   "metadata": {},
   "outputs": [],
   "source": [
    "# Create the instance\n",
    "employee2 = Development(\"Lawrence\", \"Arabia\", \"Programmer\", 100000)"
   ]
  },
  {
   "cell_type": "code",
   "execution_count": 76,
   "metadata": {},
   "outputs": [
    {
     "name": "stdout",
     "output_type": "stream",
     "text": [
      "Lawrence Arabia is writing code\n"
     ]
    }
   ],
   "source": [
    "# Write some code (call code method)\n",
    "employee2.code()"
   ]
  },
  {
   "cell_type": "code",
   "execution_count": 77,
   "metadata": {},
   "outputs": [
    {
     "data": {
      "text/plain": [
       "'Salary has been raised to 105000.0'"
      ]
     },
     "execution_count": 77,
     "metadata": {},
     "output_type": "execute_result"
    }
   ],
   "source": [
    "# Give the dev employee a raise\n",
    "employee2.dosh_raise()"
   ]
  },
  {
   "cell_type": "markdown",
   "metadata": {},
   "source": [
    "#### Exercise 2 - Importing Modules"
   ]
  },
  {
   "cell_type": "markdown",
   "metadata": {},
   "source": [
    "In VS Code, create a module titled `geometry` and add two functions in there. One that will calculate the area of a circle given a radius. The second will find the hypotenuse of a right angle given the two sides. Import the module or the functions from the module and use it to find the answers to the below questions"
   ]
  },
  {
   "cell_type": "markdown",
   "metadata": {},
   "source": [
    "What is the area of a circle with a radius of 7cm?"
   ]
  },
  {
   "cell_type": "code",
   "execution_count": null,
   "metadata": {},
   "outputs": [],
   "source": []
  },
  {
   "cell_type": "markdown",
   "metadata": {},
   "source": [
    "What is the hypotenuse of a right angle with sides of 3in and 4in?"
   ]
  },
  {
   "cell_type": "code",
   "execution_count": null,
   "metadata": {},
   "outputs": [],
   "source": []
  }
 ],
 "metadata": {
  "kernelspec": {
   "display_name": "Python 3 (ipykernel)",
   "language": "python",
   "name": "python3"
  },
  "language_info": {
   "codemirror_mode": {
    "name": "ipython",
    "version": 3
   },
   "file_extension": ".py",
   "mimetype": "text/x-python",
   "name": "python",
   "nbconvert_exporter": "python",
   "pygments_lexer": "ipython3",
   "version": "3.11.5"
  }
 },
 "nbformat": 4,
 "nbformat_minor": 4
}
